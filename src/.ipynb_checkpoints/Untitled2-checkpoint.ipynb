{
 "cells": [
  {
   "cell_type": "code",
   "execution_count": 2,
   "metadata": {},
   "outputs": [
    {
     "data": {
      "text/plain": [
       "<Figure size 1000x500 with 10 Axes>"
      ]
     },
     "metadata": {},
     "output_type": "display_data"
    }
   ],
   "source": [
    "import numpy as np\n",
    "from sklearn.datasets import load_digits\n",
    "import matplotlib.pyplot as plt\n",
    "\n",
    "digits = load_digits()\n",
    "data_train = digits.images\n",
    "label_train = digits.target\n",
    "\n",
    "mean_images = np.zeros((10,8,8))\n",
    "fig = plt.figure(figsize=(10,5))\n",
    "for i in range(10):\n",
    "    mean_images[i] = data_train[label_train==i].mean(axis=0)\n",
    "    ax = fig.add_subplot(2,5,i+1)\n",
    "    ax.axis('off')\n",
    "    ax.set_title('train.{0}(n={1})'.format(i,len(data_train[label_train==i])))\n",
    "    ax.imshow(mean_images[i],cmap=plt.cm.gray,interpolation='none')\n",
    "plt.show()"
   ]
  },
  {
   "cell_type": "code",
   "execution_count": 3,
   "metadata": {},
   "outputs": [
    {
     "data": {
      "image/png": "[encoded data removed]",
      "text/plain": [
       "<Figure size 720x360 with 10 Axes>"
      ]
     },
     "metadata": {
      "needs_background": "light"
     },
     "output_type": "display_data"
    }
   ],
   "source": [
    "import numpy as np\n",
    "from sklearn.datasets import load_digits\n",
    "import matplotlib.pyplot as plt\n",
    "\n",
    "digits = load_digits() # digitsデータ読み込み\n",
    "data_train = digits.images # (1797, 8, 8) 8×8サイズの数字データ1797点\n",
    "label_train = digits.target # (1797,) 正解ラベル\n",
    "\n",
    "# 各数字データの平均化した値を画像で出力\n",
    "mean_images = np.zeros((10,8,8))\n",
    "fig = plt.figure(figsize=(10,5))\n",
    "for i in range(10):\n",
    "    mean_images[i] = data_train[label_train==i].mean(axis=0)\n",
    "    ax = fig.add_subplot(2, 5, i+1)\n",
    "    ax.axis('off')\n",
    "    ax.set_title('train.{0} (n={1})'.format(i, len(data_train[label_train==i])))\n",
    "    ax.imshow(mean_images[i],cmap=plt.cm.gray, interpolation='none')\n",
    "plt.show()"
   ]
  },
  {
   "cell_type": "code",
   "execution_count": 4,
   "metadata": {},
   "outputs": [
    {
     "ename": "ModuleNotFoundError",
     "evalue": "No module named 'kivy'",
     "output_type": "error",
     "traceback": [
      "\u001b[1;31m---------------------------------------------------------------------------\u001b[0m",
      "\u001b[1;31mModuleNotFoundError\u001b[0m                       Traceback (most recent call last)",
      "\u001b[1;32m<ipython-input-4-9c4f96a0f0d8>\u001b[0m in \u001b[0;36m<module>\u001b[1;34m\u001b[0m\n\u001b[1;32m----> 1\u001b[1;33m \u001b[1;32mfrom\u001b[0m \u001b[0mkivy\u001b[0m\u001b[1;33m.\u001b[0m\u001b[0mapp\u001b[0m \u001b[1;32mimport\u001b[0m \u001b[0mApp\u001b[0m\u001b[1;33m\u001b[0m\u001b[1;33m\u001b[0m\u001b[0m\n\u001b[0m\u001b[0;32m      2\u001b[0m \u001b[1;32mfrom\u001b[0m \u001b[0mkivy\u001b[0m\u001b[1;33m.\u001b[0m\u001b[0muix\u001b[0m\u001b[1;33m.\u001b[0m\u001b[0mwidget\u001b[0m \u001b[1;32mimport\u001b[0m \u001b[0mWidget\u001b[0m\u001b[1;33m\u001b[0m\u001b[1;33m\u001b[0m\u001b[0m\n\u001b[0;32m      3\u001b[0m \u001b[1;33m\u001b[0m\u001b[0m\n\u001b[0;32m      4\u001b[0m \u001b[1;32mclass\u001b[0m \u001b[0mKurikkuInput\u001b[0m\u001b[1;33m(\u001b[0m\u001b[0mWidget\u001b[0m\u001b[1;33m)\u001b[0m\u001b[1;33m:\u001b[0m\u001b[1;33m\u001b[0m\u001b[1;33m\u001b[0m\u001b[0m\n\u001b[0;32m      5\u001b[0m     \u001b[1;32mdef\u001b[0m \u001b[0mon_touch_down\u001b[0m\u001b[1;33m(\u001b[0m\u001b[0mself\u001b[0m\u001b[1;33m,\u001b[0m \u001b[0mtouch\u001b[0m\u001b[1;33m)\u001b[0m\u001b[1;33m:\u001b[0m\u001b[1;33m\u001b[0m\u001b[1;33m\u001b[0m\u001b[0m\n",
      "\u001b[1;31mModuleNotFoundError\u001b[0m: No module named 'kivy'"
     ]
    }
   ],
   "source": [
    "from kivy.app import App\n",
    "from kivy.uix.widget import Widget\n",
    " \n",
    "class KurikkuInput(Widget):\n",
    "    def on_touch_down(self, touch):\n",
    "        print(touch)\n",
    "    def on_touch_move(self, touch):\n",
    "        print(touch)\n",
    "    def on_touch_up(self, touch):\n",
    "        print(\"Released!\",touch)\n",
    " \n",
    "class IntroKivy(App):\n",
    "    def build(self):\n",
    "        return KurikkuInput()\n",
    " \n",
    "if __name__ == \"__main__\":\n",
    "    IntroKivy().run()"
   ]
  },
  {
   "cell_type": "code",
   "execution_count": 14,
   "metadata": {},
   "outputs": [
    {
     "data": {
      "image/png": "[encoded data removed]",
      "text/plain": [
       "<Figure size 720x360 with 10 Axes>"
      ]
     },
     "metadata": {
      "needs_background": "light"
     },
     "output_type": "display_data"
    }
   ],
   "source": [
    "import numpy as np\n",
    "import matplotlib.pyplot as plt\n",
    "from PIL import Image\n",
    "\n",
    "# 自作数字の読み込み\n",
    "pil_images = []\n",
    "for i in range(10):\n",
    "    # mytest_数値.pngでローカルに保存したファイル\n",
    "    pil_image = Image.open('./num/mytest_' + str(i) + '.png').convert('L') # 8bit(256階調) gray\n",
    "    pil_images.append(pil_image)\n",
    "\n",
    "# 画像出力（オリジナル）\n",
    "fig = plt.figure(figsize=(10,5))\n",
    "for i in range(10):\n",
    "    ax = fig.add_subplot(2, 5, i+1)\n",
    "    ax.axis('off')\n",
    "    ax.set_title('MyDraw.{}'.format(i))\n",
    "    ax.imshow(pil_images[i],cmap=plt.cm.gray, interpolation='none')\n",
    "plt.show()\n"
   ]
  },
  {
   "cell_type": "code",
   "execution_count": null,
   "metadata": {},
   "outputs": [],
   "source": []
  },
  {
   "cell_type": "code",
   "execution_count": null,
   "metadata": {},
   "outputs": [],
   "source": []
  },
  {
   "cell_type": "code",
   "execution_count": null,
   "metadata": {},
   "outputs": [],
   "source": []
  },
  {
   "cell_type": "code",
   "execution_count": 15,
   "metadata": {},
   "outputs": [
    {
     "ename": "FileNotFoundError",
     "evalue": "[Errno 2] No such file or directory: 'mytest_0.png'",
     "output_type": "error",
     "traceback": [
      "\u001b[1;31m---------------------------------------------------------------------------\u001b[0m",
      "\u001b[1;31mFileNotFoundError\u001b[0m                         Traceback (most recent call last)",
      "\u001b[1;32m<ipython-input-15-26223ff600d4>\u001b[0m in \u001b[0;36m<module>\u001b[1;34m\u001b[0m\n\u001b[0;32m      7\u001b[0m \u001b[1;32mfor\u001b[0m \u001b[0mi\u001b[0m \u001b[1;32min\u001b[0m \u001b[0mrange\u001b[0m\u001b[1;33m(\u001b[0m\u001b[1;36m10\u001b[0m\u001b[1;33m)\u001b[0m\u001b[1;33m:\u001b[0m\u001b[1;33m\u001b[0m\u001b[1;33m\u001b[0m\u001b[0m\n\u001b[0;32m      8\u001b[0m     \u001b[1;31m# mytest_数値.pngでローカルに保存したファイル\u001b[0m\u001b[1;33m\u001b[0m\u001b[1;33m\u001b[0m\u001b[1;33m\u001b[0m\u001b[0m\n\u001b[1;32m----> 9\u001b[1;33m     \u001b[0mpil_image\u001b[0m \u001b[1;33m=\u001b[0m \u001b[0mImage\u001b[0m\u001b[1;33m.\u001b[0m\u001b[0mopen\u001b[0m\u001b[1;33m(\u001b[0m\u001b[1;34m'mytest_'\u001b[0m \u001b[1;33m+\u001b[0m \u001b[0mstr\u001b[0m\u001b[1;33m(\u001b[0m\u001b[0mi\u001b[0m\u001b[1;33m)\u001b[0m \u001b[1;33m+\u001b[0m \u001b[1;34m'.png'\u001b[0m\u001b[1;33m)\u001b[0m\u001b[1;33m.\u001b[0m\u001b[0mconvert\u001b[0m\u001b[1;33m(\u001b[0m\u001b[1;34m'L'\u001b[0m\u001b[1;33m)\u001b[0m \u001b[1;31m# 8bit(256階調) gray\u001b[0m\u001b[1;33m\u001b[0m\u001b[1;33m\u001b[0m\u001b[0m\n\u001b[0m\u001b[0;32m     10\u001b[0m     \u001b[0mpil_image_resize\u001b[0m \u001b[1;33m=\u001b[0m \u001b[0mpil_image\u001b[0m\u001b[1;33m.\u001b[0m\u001b[0mresize\u001b[0m\u001b[1;33m(\u001b[0m\u001b[1;33m(\u001b[0m\u001b[1;36m8\u001b[0m\u001b[1;33m,\u001b[0m \u001b[1;36m8\u001b[0m\u001b[1;33m)\u001b[0m\u001b[1;33m,\u001b[0m \u001b[0mImage\u001b[0m\u001b[1;33m.\u001b[0m\u001b[0mLANCZOS\u001b[0m\u001b[1;33m)\u001b[0m\u001b[1;33m\u001b[0m\u001b[1;33m\u001b[0m\u001b[0m\n\u001b[0;32m     11\u001b[0m     \u001b[0mpil_images\u001b[0m\u001b[1;33m.\u001b[0m\u001b[0mappend\u001b[0m\u001b[1;33m(\u001b[0m\u001b[0mpil_image\u001b[0m\u001b[1;33m)\u001b[0m\u001b[1;33m\u001b[0m\u001b[1;33m\u001b[0m\u001b[0m\n",
      "\u001b[1;32m~\\AppData\\Local\\Continuum\\anaconda3\\lib\\site-packages\\PIL\\Image.py\u001b[0m in \u001b[0;36mopen\u001b[1;34m(fp, mode)\u001b[0m\n\u001b[0;32m   2768\u001b[0m \u001b[1;33m\u001b[0m\u001b[0m\n\u001b[0;32m   2769\u001b[0m     \u001b[1;32mif\u001b[0m \u001b[0mfilename\u001b[0m\u001b[1;33m:\u001b[0m\u001b[1;33m\u001b[0m\u001b[1;33m\u001b[0m\u001b[0m\n\u001b[1;32m-> 2770\u001b[1;33m         \u001b[0mfp\u001b[0m \u001b[1;33m=\u001b[0m \u001b[0mbuiltins\u001b[0m\u001b[1;33m.\u001b[0m\u001b[0mopen\u001b[0m\u001b[1;33m(\u001b[0m\u001b[0mfilename\u001b[0m\u001b[1;33m,\u001b[0m \u001b[1;34m\"rb\"\u001b[0m\u001b[1;33m)\u001b[0m\u001b[1;33m\u001b[0m\u001b[1;33m\u001b[0m\u001b[0m\n\u001b[0m\u001b[0;32m   2771\u001b[0m         \u001b[0mexclusive_fp\u001b[0m \u001b[1;33m=\u001b[0m \u001b[1;32mTrue\u001b[0m\u001b[1;33m\u001b[0m\u001b[1;33m\u001b[0m\u001b[0m\n\u001b[0;32m   2772\u001b[0m \u001b[1;33m\u001b[0m\u001b[0m\n",
      "\u001b[1;31mFileNotFoundError\u001b[0m: [Errno 2] No such file or directory: 'mytest_0.png'"
     ]
    }
   ],
   "source": [
    "import numpy as np\n",
    "import matplotlib.pyplot as plt\n",
    "from PIL import Image\n",
    "\n",
    "# 自作数字の読み込み\n",
    "pil_images = []\n",
    "for i in range(10):\n",
    "    # mytest_数値.pngでローカルに保存したファイル\n",
    "    pil_image = Image.open('./num/mytest_' + str(i) + '.png').convert('L') # 8bit(256階調) gray\n",
    "    pil_image_resize = pil_image.resize((8, 8), Image.LANCZOS)\n",
    "    pil_images.append(pil_image)\n",
    "\n",
    "# pil画像データ変換(サイズ、階調をトレーニングデータ形式あわせる）\n",
    "test_data = np.empty((10, 8, 8), dtype=float)\n",
    "for i in range(10):\n",
    "    pil_image_resize = pil_images[i].resize((8, 8), Image.LANCZOS) # 8×8にリサイズ\n",
    "    test_data[i] = np.array(pil_image_resize, dtype=float) # ndarray型に変換\n",
    "    test_data[i] = 16 - np.floor(17 * test_data[i] / 256) # 0-255 -> 0-16＆明暗反転\n",
    "\n",
    "# 画像出力（digits形式に変換後）\n",
    "fig = plt.figure(figsize=(10,5))\n",
    "for i in range(10):\n",
    "    ax = fig.add_subplot(2, 5, i+1)\n",
    "    ax.axis('off')\n",
    "    ax.set_title('MyTest.{}'.format(i))\n",
    "    ax.imshow(test_data[i],cmap=plt.cm.gray, interpolation='none')\n",
    "plt.show()"
   ]
  },
  {
   "cell_type": "code",
   "execution_count": null,
   "metadata": {},
   "outputs": [],
   "source": []
  },
  {
   "cell_type": "code",
   "execution_count": null,
   "metadata": {},
   "outputs": [],
   "source": []
  },
  {
   "cell_type": "code",
   "execution_count": null,
   "metadata": {},
   "outputs": [],
   "source": []
  },
  {
   "cell_type": "code",
   "execution_count": 13,
   "metadata": {},
   "outputs": [
    {
     "name": "stdout",
     "output_type": "stream",
     "text": [
      "テストラベル（正解の数字)\n",
      "[0 1 2 3 4 5 6 7 8 9]\n",
      "解析結果（識別した数字）\n",
      "[0 1 2 3 4 1 8 7 8 9]\n",
      "正解率80.0%\n"
     ]
    }
   ],
   "source": [
    "import numpy as np\n",
    "from sklearn import datasets, svm, metrics\n",
    "from PIL import Image\n",
    "\n",
    "#　■トレーニングデータの準備■\n",
    "digits = datasets.load_digits() #ldigitsデータ読み込み (1797, 8, 8)\n",
    "# リサイズデータ(1797, 8, 8) -> (1797, 64) digits.dataでも同じ\n",
    "data_train = digits.images.reshape((digits.images.shape[0],-1)) \n",
    "label_train = digits.target # 正解ラベル(1797,)\n",
    "\n",
    "# ■自作数値データの準備■\n",
    "# pilで画像読み込み\n",
    "pil_images = []\n",
    "for i in range(10):\n",
    "    # mytest_数値.pngでローカルに保存したファイル\n",
    "    pil_image = Image.open('mytest_' + str(i) + '.png').convert('L') # 8bit(256階調) gray\n",
    "    pil_image_resize = pil_image.resize((8, 8), Image.LANCZOS)\n",
    "    pil_images.append(pil_image)\n",
    "# pil画像のデータ変換\n",
    "test_data = np.empty((10, 8, 8), dtype=float)\n",
    "for i in range(10):\n",
    "    pil_image_resize = pil_images[i].resize((8, 8), Image.LANCZOS) # 8×8にリサイズ\n",
    "    test_data[i] = np.array(pil_image_resize, dtype=float) # ndarray型に変換\n",
    "    test_data[i] = 16 - np.floor(17 * test_data[i] / 256) # 0-255 -> 0-16＆明暗反転\n",
    "test_data = test_data.reshape((test_data.shape[0],-1)) #リサイズデータ(10, 8, 8) -> (10, 64)\n",
    "# テストデータの正解ラベル(10,)\n",
    "label_test = np.array([0, 1, 2, 3, 4, 5, 6, 7, 8, 9]) \n",
    "\n",
    "# ■トレーニングデータで機械学習SVM(SVC)■\n",
    "clf = svm.SVC(gamma=0.001, C=10.0)\n",
    "clf.fit(data_train, label_train)\n",
    "\n",
    "# ■自作数値データで識別テスト■\n",
    "predict = clf.predict(test_data)\n",
    "# ■結果検証\n",
    "print('テストラベル（正解の数字)') \n",
    "print(label_test)\n",
    "print('解析結果（識別した数字）')\n",
    "print(predict)\n",
    "ac_score = metrics.accuracy_score(label_test, predict)\n",
    "print(\"正解率{}%\".format(ac_score*100))"
   ]
  },
  {
   "cell_type": "code",
   "execution_count": null,
   "metadata": {},
   "outputs": [],
   "source": []
  },
  {
   "cell_type": "code",
   "execution_count": null,
   "metadata": {},
   "outputs": [],
   "source": []
  },
  {
   "cell_type": "code",
   "execution_count": null,
   "metadata": {},
   "outputs": [],
   "source": []
  },
  {
   "cell_type": "code",
   "execution_count": null,
   "metadata": {},
   "outputs": [],
   "source": []
  }
 ],
 "metadata": {
  "kernelspec": {
   "display_name": "Python 3",
   "language": "python",
   "name": "python3"
  },
  "language_info": {
   "codemirror_mode": {
    "name": "ipython",
    "version": 3
   },
   "file_extension": ".py",
   "mimetype": "text/x-python",
   "name": "python",
   "nbconvert_exporter": "python",
   "pygments_lexer": "ipython3",
   "version": "3.7.3"
  }
 },
 "nbformat": 4,
 "nbformat_minor": 2
}
